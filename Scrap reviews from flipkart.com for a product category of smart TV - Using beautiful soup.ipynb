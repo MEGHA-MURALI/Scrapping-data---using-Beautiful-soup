{
 "cells": [
  {
   "cell_type": "markdown",
   "metadata": {},
   "source": [
    "# Objective : To scrap reviews from flipkart.com for a product category of smart TV."
   ]
  },
  {
   "cell_type": "raw",
   "metadata": {},
   "source": [
    "Collect the following from the web page: You must collect the information from min 20 pages.\n",
    "a) Product name\n",
    "b) Rating\n",
    "c) Flipkart price\n",
    "d) Actual price\n",
    "e) Discount offered"
   ]
  },
  {
   "cell_type": "code",
   "execution_count": 2,
   "metadata": {},
   "outputs": [],
   "source": [
    "# Installing the library beautiful soup\n",
    "\n",
    "#!pip install bs4"
   ]
  },
  {
   "cell_type": "code",
   "execution_count": 3,
   "metadata": {},
   "outputs": [],
   "source": [
    "# Lets import the library\n",
    "\n",
    "from requests import get\n",
    "from bs4 import BeautifulSoup"
   ]
  },
  {
   "cell_type": "code",
   "execution_count": 4,
   "metadata": {},
   "outputs": [],
   "source": [
    "# STEP 1: Create a web - page link object\n",
    "\n",
    "url = \"https://www.flipkart.com/search?q=smart%20tv&otracker=search&otracker1=search&marketplace=FLIPKART&as-show=on&as=off\"\n",
    "# STEP 2: To request the server to connect with the webpage\n",
    "\n",
    "# get() is used to connect with the web - page and it will extract the \n",
    "# web-page structure\n",
    "\n",
    "response = get(url)\n"
   ]
  },
  {
   "cell_type": "code",
   "execution_count": 5,
   "metadata": {},
   "outputs": [],
   "source": [
    "# STEP 3 - Convert the responce into a html format using beautifulSoup\n",
    "\n",
    "bs4_obj = BeautifulSoup(response.text,\"html.parser\")"
   ]
  },
  {
   "cell_type": "code",
   "execution_count": 6,
   "metadata": {},
   "outputs": [
    {
     "data": {
      "text/plain": [
       "24"
      ]
     },
     "execution_count": 6,
     "metadata": {},
     "output_type": "execute_result"
    }
   ],
   "source": [
    "# STEP 4:Use a command of find_all() to extract all\n",
    "# all the container which contain the master tag - div and master class -\n",
    "# \"_3pLy-c row\"\n",
    "\n",
    "master_container = bs4_obj.find_all('div', class_ = \"_3pLy-c row\")\n",
    "\n",
    "len(master_container)"
   ]
  },
  {
   "cell_type": "code",
   "execution_count": 7,
   "metadata": {},
   "outputs": [],
   "source": [
    "#To extract -a) Product name b) Rating c) Flipkart price d) Actual price e) Discount offered"
   ]
  },
  {
   "cell_type": "code",
   "execution_count": 8,
   "metadata": {},
   "outputs": [],
   "source": [
    "# Check out the first container\n",
    "\n",
    "first_container = master_container[0]"
   ]
  },
  {
   "cell_type": "code",
   "execution_count": 9,
   "metadata": {},
   "outputs": [
    {
     "data": {
      "text/plain": [
       "'Mi 4A PRO 80 cm (32) HD Ready LED Smart Android TV With Google Data Saver'"
      ]
     },
     "execution_count": 9,
     "metadata": {},
     "output_type": "execute_result"
    }
   ],
   "source": [
    "#Extract the name of the smart TV\n",
    "first_container.find('div', class_ = '_4rR01T').text"
   ]
  },
  {
   "cell_type": "code",
   "execution_count": 10,
   "metadata": {},
   "outputs": [
    {
     "name": "stdout",
     "output_type": "stream",
     "text": [
      "4.4\n"
     ]
    }
   ],
   "source": [
    "#Extract the ratings\n",
    "if master_container[1].find('div', class_ = '_3LWZlK') is not None: \n",
    "    x = master_container[1].find('div', class_ = '_3LWZlK').text\n",
    "else: \n",
    "    x = \"NA\"\n",
    "print(x)"
   ]
  },
  {
   "cell_type": "code",
   "execution_count": 11,
   "metadata": {},
   "outputs": [
    {
     "data": {
      "text/plain": [
       "'₹13,999'"
      ]
     },
     "execution_count": 11,
     "metadata": {},
     "output_type": "execute_result"
    }
   ],
   "source": [
    "# To extract the flipkart price\n",
    "first_container.find('div', class_ = \"_30jeq3 _1_WHN1\").text"
   ]
  },
  {
   "cell_type": "code",
   "execution_count": 12,
   "metadata": {},
   "outputs": [
    {
     "data": {
      "text/plain": [
       "'₹14,999'"
      ]
     },
     "execution_count": 12,
     "metadata": {},
     "output_type": "execute_result"
    }
   ],
   "source": [
    "# To extract the actual price\n",
    "first_container.find('div', class_ = \"_3I9_wc _27UcVY\").text"
   ]
  },
  {
   "cell_type": "code",
   "execution_count": 13,
   "metadata": {},
   "outputs": [
    {
     "data": {
      "text/plain": [
       "'6% off'"
      ]
     },
     "execution_count": 13,
     "metadata": {},
     "output_type": "execute_result"
    }
   ],
   "source": [
    "#To extract the discount offered \n",
    "first_container.find('div', class_ = '_3Ay6Sb').text"
   ]
  },
  {
   "cell_type": "code",
   "execution_count": 14,
   "metadata": {},
   "outputs": [],
   "source": [
    "# Put everything into a single code and extract the required information\n",
    "# from all 24 containers of page 1\n",
    "\n",
    "# STEP 1: Create empty list of which every information you want extract\n",
    "\n",
    "product_name = []\n",
    "rating=[]\n",
    "flipkart_price=[]\n",
    "actual_price=[] \n",
    "discount=[]\n",
    "\n",
    "# STEP 2: Use a for loop to extract the information\n",
    "\n",
    "for x in master_container:\n",
    "    \n",
    "    # Extract the name of the smart TV\n",
    "    \n",
    "    productname = x.find('div', class_ = '_4rR01T').text\n",
    "    product_name.append(productname)\n",
    "    \n",
    "    # Extrating the rating of the TV\n",
    "    \n",
    "    if master_container[1].find('div', class_ = '_3LWZlK') is not None: \n",
    "        x = master_container[1].find('div', class_ = '_3LWZlK').text\n",
    "    else: \n",
    "        x = \"NA\"\n",
    "    rating.append(x)\n",
    "    \n",
    "    # Extracting the FLIPKART price of the TV\n",
    "    \n",
    "    if master_container[1].find('div', class_ = '_30jeq3 _1_WHN1') is not None: \n",
    "        x = master_container[1].find('div', class_ = '_30jeq3 _1_WHN1').text\n",
    "    else: \n",
    "        x = \"NA\"\n",
    "    flipkart_price.append(x)\n",
    "       \n",
    "    # Extracting the actual price of the TV\n",
    "    \n",
    "    if master_container[1].find('div', class_ = '_3I9_wc _27UcVY') is not None: \n",
    "        x = master_container[1].find('div', class_ = '_3I9_wc _27UcVY').text\n",
    "    else: \n",
    "        x = \"NA\"\n",
    "    actual_price.append(x)\n",
    "    \n",
    "    # Extract the discount offered \n",
    "    \n",
    "    if master_container[1].find('div', class_ = '_3Ay6Sb') is not None: \n",
    "        x = master_container[1].find('div', class_ = '_3Ay6Sb').text\n",
    "    else: \n",
    "        x = \"NA\"\n",
    "    discount.append(x)"
   ]
  },
  {
   "cell_type": "code",
   "execution_count": 15,
   "metadata": {},
   "outputs": [
    {
     "name": "stdout",
     "output_type": "stream",
     "text": [
      "24\n",
      "24\n",
      "24\n",
      "24\n",
      "24\n"
     ]
    }
   ],
   "source": [
    "# Please check the length of all the list must be same before you convert\n",
    "# them into a data frame\n",
    "\n",
    "print(len(product_name))\n",
    "print(len(rating))\n",
    "print(len(flipkart_price))\n",
    "print(len(actual_price))\n",
    "print(len(discount))"
   ]
  },
  {
   "cell_type": "code",
   "execution_count": 16,
   "metadata": {},
   "outputs": [
    {
     "data": {
      "text/html": [
       "<div>\n",
       "<style scoped>\n",
       "    .dataframe tbody tr th:only-of-type {\n",
       "        vertical-align: middle;\n",
       "    }\n",
       "\n",
       "    .dataframe tbody tr th {\n",
       "        vertical-align: top;\n",
       "    }\n",
       "\n",
       "    .dataframe thead th {\n",
       "        text-align: right;\n",
       "    }\n",
       "</style>\n",
       "<table border=\"1\" class=\"dataframe\">\n",
       "  <thead>\n",
       "    <tr style=\"text-align: right;\">\n",
       "      <th></th>\n",
       "      <th>Smart TV Name</th>\n",
       "      <th>Rating</th>\n",
       "      <th>Flipkart_Price</th>\n",
       "      <th>Actual_Price</th>\n",
       "      <th>Discount_offered</th>\n",
       "    </tr>\n",
       "  </thead>\n",
       "  <tbody>\n",
       "    <tr>\n",
       "      <th>0</th>\n",
       "      <td>Mi 4A PRO 80 cm (32) HD Ready LED Smart Androi...</td>\n",
       "      <td>4.4</td>\n",
       "      <td>₹25,999</td>\n",
       "      <td>₹28,999</td>\n",
       "      <td>10% off</td>\n",
       "    </tr>\n",
       "    <tr>\n",
       "      <th>1</th>\n",
       "      <td>Mi 4X 108 cm (43) Ultra HD (4K) LED Smart Andr...</td>\n",
       "      <td>4.4</td>\n",
       "      <td>₹25,999</td>\n",
       "      <td>₹28,999</td>\n",
       "      <td>10% off</td>\n",
       "    </tr>\n",
       "    <tr>\n",
       "      <th>2</th>\n",
       "      <td>Mi 4A Pro 108 cm (43) Full HD LED Smart Androi...</td>\n",
       "      <td>4.4</td>\n",
       "      <td>₹25,999</td>\n",
       "      <td>₹28,999</td>\n",
       "      <td>10% off</td>\n",
       "    </tr>\n",
       "    <tr>\n",
       "      <th>3</th>\n",
       "      <td>Mi 4X 125.7 cm (50) Ultra HD (4K) LED Smart An...</td>\n",
       "      <td>4.4</td>\n",
       "      <td>₹25,999</td>\n",
       "      <td>₹28,999</td>\n",
       "      <td>10% off</td>\n",
       "    </tr>\n",
       "    <tr>\n",
       "      <th>4</th>\n",
       "      <td>Mi 4A Horizon Edition 80 cm (32) HD Ready LED ...</td>\n",
       "      <td>4.4</td>\n",
       "      <td>₹25,999</td>\n",
       "      <td>₹28,999</td>\n",
       "      <td>10% off</td>\n",
       "    </tr>\n",
       "  </tbody>\n",
       "</table>\n",
       "</div>"
      ],
      "text/plain": [
       "                                       Smart TV Name Rating Flipkart_Price  \\\n",
       "0  Mi 4A PRO 80 cm (32) HD Ready LED Smart Androi...    4.4        ₹25,999   \n",
       "1  Mi 4X 108 cm (43) Ultra HD (4K) LED Smart Andr...    4.4        ₹25,999   \n",
       "2  Mi 4A Pro 108 cm (43) Full HD LED Smart Androi...    4.4        ₹25,999   \n",
       "3  Mi 4X 125.7 cm (50) Ultra HD (4K) LED Smart An...    4.4        ₹25,999   \n",
       "4  Mi 4A Horizon Edition 80 cm (32) HD Ready LED ...    4.4        ₹25,999   \n",
       "\n",
       "  Actual_Price Discount_offered  \n",
       "0      ₹28,999          10% off  \n",
       "1      ₹28,999          10% off  \n",
       "2      ₹28,999          10% off  \n",
       "3      ₹28,999          10% off  \n",
       "4      ₹28,999          10% off  "
      ]
     },
     "execution_count": 16,
     "metadata": {},
     "output_type": "execute_result"
    }
   ],
   "source": [
    "# Converting the list into the data frame \n",
    "\n",
    "import pandas as pd\n",
    "\n",
    "df = pd.DataFrame({\"Smart TV Name\" : product_name,\n",
    "                  \"Rating\" : rating,\"Flipkart_Price\" : flipkart_price,\"Actual_Price\" : actual_price,\"Discount_offered\" : discount})\n",
    "\n",
    "df.head()"
   ]
  },
  {
   "cell_type": "code",
   "execution_count": 17,
   "metadata": {},
   "outputs": [],
   "source": [
    "# First create the list of the pages you want to extract\n",
    "\n",
    "page_number = [1,2,3,4,5,6,7,8,9,10,11,12,13,14,15,16,17,18,19,20]\n",
    "\n",
    "#Extact the information from first 20 pages\n",
    "\n",
    "#Create the empty list for information you want\n",
    "\n",
    "product_name = []\n",
    "rating=[]\n",
    "flipkart_price=[]\n",
    "actual_price=[] \n",
    "discount=[]\n",
    "\n",
    "for x in page_number:\n",
    "    \n",
    "    # Create the dynamic URL\n",
    "    \n",
    "    url =\"https://www.flipkart.com/search?q=smart%20tv&otracker=search&otracker1=search&marketplace=FLIPKART&as-show=on&as=off\"\n",
    "\n",
    "    # Create the response object\n",
    "    \n",
    "    response = get(url)\n",
    "    \n",
    "    # Create the beautiful Soup object\n",
    "    \n",
    "    bs4_obj = BeautifulSoup(response.text, \"html.parser\")\n",
    "    \n",
    "    # Create the master container\n",
    "\n",
    "    master_container = bs4_obj.find_all('div', class_ = \"_3pLy-c row\")\n",
    "    \n",
    "    # Lets Iterate variable Y in the master container\n",
    "    \n",
    "    for y in master_container: \n",
    "        \n",
    "        # Extract the name of the smart TV\n",
    "    \n",
    "        productname = y.find('div', class_ = '_4rR01T').text\n",
    "        product_name.append(productname)\n",
    "    \n",
    "        # Extrating the rating of the TV\n",
    "\n",
    "        if y.find('div', class_ = '_3LWZlK') is not None: \n",
    "            x = y.find('div', class_ = '_3LWZlK').text\n",
    "        else: \n",
    "            x = \"NA\"\n",
    "        rating.append(x)\n",
    "    \n",
    "        # Extracting the FLIPKART price of the TV\n",
    "\n",
    "        if y.find('div', class_ = '_30jeq3 _1_WHN1') is not None: \n",
    "            x = y.find('div', class_ = '_30jeq3 _1_WHN1').text\n",
    "        else: \n",
    "            x = \"NA\"\n",
    "        flipkart_price.append(x)\n",
    "\n",
    "        # Extracting the actual price of the TV\n",
    "\n",
    "        if y.find('div', class_ = '_3I9_wc _27UcVY') is not None: \n",
    "            x = y.find('div', class_ = '_3I9_wc _27UcVY').text\n",
    "        else: \n",
    "            x = \"NA\"\n",
    "        actual_price.append(x)\n",
    "\n",
    "        # Extract the discount offered \n",
    "\n",
    "        if y.find('div', class_ = '_3Ay6Sb') is not None: \n",
    "            x = y.find('div', class_ = '_3Ay6Sb').text\n",
    "        else: \n",
    "            x = \"NA\"\n",
    "        discount.append(x)"
   ]
  },
  {
   "cell_type": "code",
   "execution_count": 18,
   "metadata": {},
   "outputs": [
    {
     "name": "stdout",
     "output_type": "stream",
     "text": [
      "480\n",
      "480\n",
      "480\n",
      "480\n",
      "480\n"
     ]
    }
   ],
   "source": [
    "# Please check the lenght of all the list must be same before you convert\n",
    "# them into a data frame\n",
    "\n",
    "print(len(product_name))\n",
    "print(len(rating))\n",
    "print(len(flipkart_price))\n",
    "print(len(actual_price))\n",
    "print(len(discount))"
   ]
  },
  {
   "cell_type": "code",
   "execution_count": 19,
   "metadata": {},
   "outputs": [
    {
     "data": {
      "text/html": [
       "<div>\n",
       "<style scoped>\n",
       "    .dataframe tbody tr th:only-of-type {\n",
       "        vertical-align: middle;\n",
       "    }\n",
       "\n",
       "    .dataframe tbody tr th {\n",
       "        vertical-align: top;\n",
       "    }\n",
       "\n",
       "    .dataframe thead th {\n",
       "        text-align: right;\n",
       "    }\n",
       "</style>\n",
       "<table border=\"1\" class=\"dataframe\">\n",
       "  <thead>\n",
       "    <tr style=\"text-align: right;\">\n",
       "      <th></th>\n",
       "      <th>Smart TV Name</th>\n",
       "      <th>Rating</th>\n",
       "      <th>Flipkart_Price</th>\n",
       "      <th>Actual_Price</th>\n",
       "      <th>Discount_offered(%)</th>\n",
       "    </tr>\n",
       "  </thead>\n",
       "  <tbody>\n",
       "    <tr>\n",
       "      <th>0</th>\n",
       "      <td>Mi 4A PRO 80 cm (32) HD Ready LED Smart Androi...</td>\n",
       "      <td>4.4</td>\n",
       "      <td>₹13,999</td>\n",
       "      <td>₹14,999</td>\n",
       "      <td>6% off</td>\n",
       "    </tr>\n",
       "    <tr>\n",
       "      <th>1</th>\n",
       "      <td>Mi 4X 108 cm (43) Ultra HD (4K) LED Smart Andr...</td>\n",
       "      <td>4.4</td>\n",
       "      <td>₹25,999</td>\n",
       "      <td>₹28,999</td>\n",
       "      <td>10% off</td>\n",
       "    </tr>\n",
       "    <tr>\n",
       "      <th>2</th>\n",
       "      <td>Mi 4A Pro 108 cm (43) Full HD LED Smart Androi...</td>\n",
       "      <td>4.4</td>\n",
       "      <td>₹22,499</td>\n",
       "      <td>₹25,999</td>\n",
       "      <td>13% off</td>\n",
       "    </tr>\n",
       "    <tr>\n",
       "      <th>3</th>\n",
       "      <td>Mi 4X 125.7 cm (50) Ultra HD (4K) LED Smart An...</td>\n",
       "      <td>4.4</td>\n",
       "      <td>₹31,999</td>\n",
       "      <td>₹34,999</td>\n",
       "      <td>8% off</td>\n",
       "    </tr>\n",
       "    <tr>\n",
       "      <th>4</th>\n",
       "      <td>Mi 4A Horizon Edition 80 cm (32) HD Ready LED ...</td>\n",
       "      <td>4.3</td>\n",
       "      <td>₹14,499</td>\n",
       "      <td>₹15,999</td>\n",
       "      <td>9% off</td>\n",
       "    </tr>\n",
       "  </tbody>\n",
       "</table>\n",
       "</div>"
      ],
      "text/plain": [
       "                                       Smart TV Name Rating Flipkart_Price  \\\n",
       "0  Mi 4A PRO 80 cm (32) HD Ready LED Smart Androi...    4.4        ₹13,999   \n",
       "1  Mi 4X 108 cm (43) Ultra HD (4K) LED Smart Andr...    4.4        ₹25,999   \n",
       "2  Mi 4A Pro 108 cm (43) Full HD LED Smart Androi...    4.4        ₹22,499   \n",
       "3  Mi 4X 125.7 cm (50) Ultra HD (4K) LED Smart An...    4.4        ₹31,999   \n",
       "4  Mi 4A Horizon Edition 80 cm (32) HD Ready LED ...    4.3        ₹14,499   \n",
       "\n",
       "  Actual_Price Discount_offered(%)  \n",
       "0      ₹14,999              6% off  \n",
       "1      ₹28,999             10% off  \n",
       "2      ₹25,999             13% off  \n",
       "3      ₹34,999              8% off  \n",
       "4      ₹15,999              9% off  "
      ]
     },
     "execution_count": 19,
     "metadata": {},
     "output_type": "execute_result"
    }
   ],
   "source": [
    "# Converting the list into the data frame \n",
    "\n",
    "import pandas as pd\n",
    "\n",
    "df1 = pd.DataFrame({\"Smart TV Name\" : product_name,\n",
    "                  \"Rating\" : rating,\"Flipkart_Price\" : flipkart_price,\"Actual_Price\" : actual_price,\"Discount_offered(%)\" : discount})\n",
    "\n",
    "\n",
    "df1.head()"
   ]
  },
  {
   "cell_type": "code",
   "execution_count": 20,
   "metadata": {},
   "outputs": [],
   "source": [
    "# Lets remove the Rupees symbol from the Price column\n",
    "\n",
    "df1['Flipkart_Price'] = df1['Flipkart_Price'].str.replace(\"₹\", \"\")\n",
    "df1['Actual_Price'] = df1['Actual_Price'].str.replace(\"₹\", \"\")\n",
    "df1['Discount_offered(%)'] = df1['Discount_offered(%)'].str.replace(\"% off\", \"\")"
   ]
  },
  {
   "cell_type": "code",
   "execution_count": 21,
   "metadata": {},
   "outputs": [
    {
     "data": {
      "text/html": [
       "<div>\n",
       "<style scoped>\n",
       "    .dataframe tbody tr th:only-of-type {\n",
       "        vertical-align: middle;\n",
       "    }\n",
       "\n",
       "    .dataframe tbody tr th {\n",
       "        vertical-align: top;\n",
       "    }\n",
       "\n",
       "    .dataframe thead th {\n",
       "        text-align: right;\n",
       "    }\n",
       "</style>\n",
       "<table border=\"1\" class=\"dataframe\">\n",
       "  <thead>\n",
       "    <tr style=\"text-align: right;\">\n",
       "      <th></th>\n",
       "      <th>Smart TV Name</th>\n",
       "      <th>Rating</th>\n",
       "      <th>Flipkart_Price</th>\n",
       "      <th>Actual_Price</th>\n",
       "      <th>Discount_offered(%)</th>\n",
       "    </tr>\n",
       "  </thead>\n",
       "  <tbody>\n",
       "    <tr>\n",
       "      <th>0</th>\n",
       "      <td>Mi 4A PRO 80 cm (32) HD Ready LED Smart Androi...</td>\n",
       "      <td>4.4</td>\n",
       "      <td>13,999</td>\n",
       "      <td>14,999</td>\n",
       "      <td>6</td>\n",
       "    </tr>\n",
       "    <tr>\n",
       "      <th>1</th>\n",
       "      <td>Mi 4X 108 cm (43) Ultra HD (4K) LED Smart Andr...</td>\n",
       "      <td>4.4</td>\n",
       "      <td>25,999</td>\n",
       "      <td>28,999</td>\n",
       "      <td>10</td>\n",
       "    </tr>\n",
       "    <tr>\n",
       "      <th>2</th>\n",
       "      <td>Mi 4A Pro 108 cm (43) Full HD LED Smart Androi...</td>\n",
       "      <td>4.4</td>\n",
       "      <td>22,499</td>\n",
       "      <td>25,999</td>\n",
       "      <td>13</td>\n",
       "    </tr>\n",
       "    <tr>\n",
       "      <th>3</th>\n",
       "      <td>Mi 4X 125.7 cm (50) Ultra HD (4K) LED Smart An...</td>\n",
       "      <td>4.4</td>\n",
       "      <td>31,999</td>\n",
       "      <td>34,999</td>\n",
       "      <td>8</td>\n",
       "    </tr>\n",
       "    <tr>\n",
       "      <th>4</th>\n",
       "      <td>Mi 4A Horizon Edition 80 cm (32) HD Ready LED ...</td>\n",
       "      <td>4.3</td>\n",
       "      <td>14,499</td>\n",
       "      <td>15,999</td>\n",
       "      <td>9</td>\n",
       "    </tr>\n",
       "  </tbody>\n",
       "</table>\n",
       "</div>"
      ],
      "text/plain": [
       "                                       Smart TV Name Rating Flipkart_Price  \\\n",
       "0  Mi 4A PRO 80 cm (32) HD Ready LED Smart Androi...    4.4         13,999   \n",
       "1  Mi 4X 108 cm (43) Ultra HD (4K) LED Smart Andr...    4.4         25,999   \n",
       "2  Mi 4A Pro 108 cm (43) Full HD LED Smart Androi...    4.4         22,499   \n",
       "3  Mi 4X 125.7 cm (50) Ultra HD (4K) LED Smart An...    4.4         31,999   \n",
       "4  Mi 4A Horizon Edition 80 cm (32) HD Ready LED ...    4.3         14,499   \n",
       "\n",
       "  Actual_Price Discount_offered(%)  \n",
       "0       14,999                   6  \n",
       "1       28,999                  10  \n",
       "2       25,999                  13  \n",
       "3       34,999                   8  \n",
       "4       15,999                   9  "
      ]
     },
     "execution_count": 21,
     "metadata": {},
     "output_type": "execute_result"
    }
   ],
   "source": [
    "df1.head()"
   ]
  },
  {
   "cell_type": "code",
   "execution_count": 22,
   "metadata": {},
   "outputs": [
    {
     "data": {
      "text/plain": [
       "(480, 5)"
      ]
     },
     "execution_count": 22,
     "metadata": {},
     "output_type": "execute_result"
    }
   ],
   "source": [
    "df1.shape"
   ]
  },
  {
   "cell_type": "markdown",
   "metadata": {},
   "source": [
    "#### Thus, we had extracted the reviews of 20 pages from flipkart.com for a product category of smart TV."
   ]
  },
  {
   "cell_type": "markdown",
   "metadata": {},
   "source": [
    "#### We can use this to compare the actual price with discount price given by the flipkart & even with other company's prices."
   ]
  }
 ],
 "metadata": {
  "kernelspec": {
   "display_name": "Python 3",
   "language": "python",
   "name": "python3"
  },
  "language_info": {
   "codemirror_mode": {
    "name": "ipython",
    "version": 3
   },
   "file_extension": ".py",
   "mimetype": "text/x-python",
   "name": "python",
   "nbconvert_exporter": "python",
   "pygments_lexer": "ipython3",
   "version": "3.8.5"
  }
 },
 "nbformat": 4,
 "nbformat_minor": 4
}
